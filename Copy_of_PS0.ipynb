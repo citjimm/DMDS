{
  "nbformat": 4,
  "nbformat_minor": 0,
  "metadata": {
    "colab": {
      "provenance": [],
      "authorship_tag": "ABX9TyMPjFUltpRs3BWWZyRhz+BD",
      "include_colab_link": true
    },
    "kernelspec": {
      "name": "python3",
      "display_name": "Python 3"
    },
    "language_info": {
      "name": "python"
    }
  },
  "cells": [
    {
      "cell_type": "markdown",
      "metadata": {
        "id": "view-in-github",
        "colab_type": "text"
      },
      "source": [
        "<a href=\"https://colab.research.google.com/github/citjimm/DMDS/blob/main/Copy_of_PS0.ipynb\" target=\"_parent\"><img src=\"https://colab.research.google.com/assets/colab-badge.svg\" alt=\"Open In Colab\"/></a>"
      ]
    },
    {
      "cell_type": "code",
      "source": [],
      "metadata": {
        "id": "HonAul5fDi5u"
      },
      "execution_count": null,
      "outputs": []
    },
    {
      "cell_type": "code",
      "execution_count": null,
      "metadata": {
        "id": "ztm5sXxMfJva",
        "outputId": "ad3fe816-d261-43fc-b2da-e89e2427cda2",
        "colab": {
          "base_uri": "https://localhost:8080/"
        }
      },
      "outputs": [
        {
          "output_type": "execute_result",
          "data": {
            "text/plain": [
              "<bound method NDFrame.describe of Empty DataFrame\n",
              "Columns: [<!DOCTYPE html><html><head><title>Google Drive - Virus scan warning</title><meta http-equiv=\"content-type\" content=\"text/html; charset=utf-8\"/><style nonce=\"lISwm3nHejExnhMUTwzudg\">.goog-inline-block{position:relative;display:-moz-inline-box;display:inline-block}* html .goog-inline-block{display:inline}*:first-child+html .goog-inline-block{display:inline}.goog-link-button{position:relative;color:#15c;text-decoration:underline;cursor:pointer}.goog-link-button-disabled{color:#ccc;text-decoration:none;cursor:default}body{color:#222;font:normal 13px/1.4 arial, sans-serif;margin:0}.grecaptcha-badge{visibility:hidden}.uc-main{padding-top:50px;text-align:center}#uc-dl-icon{display:inline-block;margin-top:16px;padding-right:1em;vertical-align:top}#uc-text{display:inline-block;max-width:68ex;text-align:left}.uc-error-caption, .uc-warning-caption{color:#222;font-size:16px}#uc-download-link{text-decoration:none}.uc-name-size a{color:#15c;text-decoration:none}.uc-name-size a:visited{color:#61c;text-decoration:none}.uc-name-size a:active{color:#d14836;text-decoration:none}.uc-footer{color:#777;font-size:11px;padding-bottom:5ex;padding-top:5ex;text-align:center}.uc-footer a{color:#15c}.uc-footer a:visited{color:#61c}.uc-footer a:active{color:#d14836}.uc-footer-divider{color:#ccc;width:100%}sentinel{}</style><link rel=\"icon\" href=\"//ssl.gstatic.com/docs/doclist/images/drive_2022q3_32dp.png\"/></head><body><div class=\"uc-main\"><div id=\"uc-dl-icon\" class=\"image-container\"><div class=\"drive-sprite-aux-download-file\"></div></div><div id=\"uc-text\"><p class=\"uc-warning-caption\">Google Drive can't scan this file for viruses.</p><p class=\"uc-warning-subcaption\"><span class=\"uc-name-size\"><a href=\"/open?id=1xiHOODq1EkunCiEvWSpuFmTGOkC8yhHq\">BRFSS-2022.zip</a> (81M)</span> is too large for Google to scan for viruses. Would you still like to download this file?</p><form id=\"download-form\" action=\"https://docs.google.com/uc?id=1xiHOODq1EkunCiEvWSpuFmTGOkC8yhHq&amp;confirm=t&amp;uuid=806eb742-06b5-4481-9cf2-6454dc92e227\" method=\"post\"><input type=\"submit\" id=\"uc-download-link\" class=\"goog-inline-block jfk-button jfk-button-action\" value=\"Download anyway\"/></form></div></div><div class=\"uc-footer\"><hr class=\"uc-footer-divider\"></div></body></html>]\n",
              "Index: []>"
            ]
          },
          "metadata": {},
          "execution_count": 25
        }
      ],
      "source": [
        "from pandas.core import describe\n",
        "\n",
        "import pandas as pd\n",
        "\n",
        "\n",
        "\n",
        "#BRFSS data set on google\n",
        "\n",
        "!wget -q -O brfss.csv https://docs.google.com/uc?id=1xiHOODq1EkunCiEvWSpuFmTGOkC8yhHq&export=download\n",
        "\n",
        "# basic navigation\n",
        "#wd =  'ex1'  #'C:\\Users\\ref\\Desktop\\junk' # may need to ADJUST\n",
        "#os.makedirs(wd)\n",
        "#os.getcwd() #pwd\n",
        "#!pwd\n",
        "#os.listdir() #compare to clicking on the left the folder icon #dir\n",
        "#!ls\n",
        "#os.chdir(wd)\n",
        "#os.getcwd()\n",
        "\n",
        "dat=pd.read_csv('brfss.csv')\n",
        "\n",
        "#target_state = 'New Jersey'\n",
        "\n",
        "dat.describe\n",
        "\n",
        "# Load the BRFSS dataset from a CSV file (replace 'brfss_data.csv' with the actual file path)\n",
        "#df = pd.read_csv('brfss.csv')\n",
        "\n",
        "# Specify the state you want to filter by (e.g., 'New York')\n",
        "##target_state = 'New Jersey'\n",
        "\n",
        "# Filter the dataset for the specified state\n",
        "#state_data = dat[dat['state'] == target_state]\n",
        "\n",
        "# Display the data for the specified state\n",
        "##print(state_data)\n"
      ]
    }
  ]
}